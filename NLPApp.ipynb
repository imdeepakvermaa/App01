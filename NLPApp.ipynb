{
  "nbformat": 4,
  "nbformat_minor": 0,
  "metadata": {
    "colab": {
      "provenance": [],
      "toc_visible": true,
      "authorship_tag": "ABX9TyM3RxRK0+xmJGnlXtlyqk2m",
      "include_colab_link": true
    },
    "kernelspec": {
      "name": "python3",
      "display_name": "Python 3"
    },
    "language_info": {
      "name": "python"
    }
  },
  "cells": [
    {
      "cell_type": "markdown",
      "metadata": {
        "id": "view-in-github",
        "colab_type": "text"
      },
      "source": [
        "<a href=\"https://colab.research.google.com/github/imdeepakvermaa/App01/blob/master/NLPApp.ipynb\" target=\"_parent\"><img src=\"https://colab.research.google.com/assets/colab-badge.svg\" alt=\"Open In Colab\"/></a>"
      ]
    },
    {
      "cell_type": "code",
      "execution_count": null,
      "metadata": {
        "colab": {
          "base_uri": "https://localhost:8080/"
        },
        "id": "mTQXye0em-AO",
        "outputId": "7b762a48-743f-405d-ea1c-5ccf816363cf"
      },
      "outputs": [
        {
          "output_type": "stream",
          "name": "stdout",
          "text": [
            "Hello\n"
          ]
        }
      ],
      "source": [
        "  print(\"Hello\")"
      ]
    },
    {
      "cell_type": "code",
      "source": [
        "!pip install nlpcloud\n"
      ],
      "metadata": {
        "colab": {
          "base_uri": "https://localhost:8080/"
        },
        "id": "M7SfsjCfnHUo",
        "outputId": "3771cd93-c24c-4097-b5aa-e808d108e067"
      },
      "execution_count": null,
      "outputs": [
        {
          "output_type": "stream",
          "name": "stdout",
          "text": [
            "Collecting nlpcloud\n",
            "  Downloading nlpcloud-1.1.47-py3-none-any.whl.metadata (1.1 kB)\n",
            "Requirement already satisfied: requests in /usr/local/lib/python3.11/dist-packages (from nlpcloud) (2.32.3)\n",
            "Requirement already satisfied: charset-normalizer<4,>=2 in /usr/local/lib/python3.11/dist-packages (from requests->nlpcloud) (3.4.1)\n",
            "Requirement already satisfied: idna<4,>=2.5 in /usr/local/lib/python3.11/dist-packages (from requests->nlpcloud) (3.10)\n",
            "Requirement already satisfied: urllib3<3,>=1.21.1 in /usr/local/lib/python3.11/dist-packages (from requests->nlpcloud) (2.3.0)\n",
            "Requirement already satisfied: certifi>=2017.4.17 in /usr/local/lib/python3.11/dist-packages (from requests->nlpcloud) (2025.1.31)\n",
            "Downloading nlpcloud-1.1.47-py3-none-any.whl (3.9 kB)\n",
            "Installing collected packages: nlpcloud\n",
            "Successfully installed nlpcloud-1.1.47\n"
          ]
        }
      ]
    },
    {
      "cell_type": "code",
      "source": [
        "import nlpcloud\n",
        "\n",
        "class NLPApp:\n",
        "    def __init__(self):\n",
        "\n",
        "        self.__database = {\n",
        "\n",
        "        }\n",
        "        self.__first_menu()\n",
        "\n",
        "    def __first_menu(self):\n",
        "\n",
        "        user_input = input(\n",
        "            \"\"\"\n",
        "            Hi ! How would you like to proceed ?\n",
        "            1. Not a member? Resigter\n",
        "            2. Already a member? Login\n",
        "            3. Want to exit? Exit\n",
        "            \"\"\"\n",
        "        )\n",
        "\n",
        "        if user_input == '1':\n",
        "            self.__Register()\n",
        "        elif user_input == '2':\n",
        "            self.__Login()\n",
        "        else :\n",
        "            exit()\n",
        "\n",
        "\n",
        "\n",
        "    def __Register(self):\n",
        "        name = input(\"Enter name : \")\n",
        "        email = input(\"Enter email : \")\n",
        "        password = input(\"Enter password : \")\n",
        "\n",
        "        if email in self.__database:\n",
        "          print(\"Email already exit\")\n",
        "\n",
        "        else :\n",
        "          self.__database[email] = [name,password]\n",
        "          print(\"Registration successful, Now login....\")\n",
        "          print(self.__database)\n",
        "          self.__Second_menu()\n",
        "\n",
        "\n",
        "    def __Login(self):\n",
        "        print(\"Hey Login with your credentials!!\")\n",
        "        email = input(\"Enter your email : \")\n",
        "        password = input(\"Enter your password : \")\n",
        "        if email in self.__database:\n",
        "          if self.__database[email][1] == password:\n",
        "            print(\"You've logged in.\")\n",
        "            self.__Second_menu()\n",
        "\n",
        "          else:\n",
        "            print(\"Wrong password entered.\")\n",
        "            self.__login()\n",
        "\n",
        "        else :\n",
        "          print(\"Email not registered!\")\n",
        "          self.__first_menu()\n",
        "\n",
        "\n",
        "    def __Second_menu(self):\n",
        "\n",
        "        user_input = input(\n",
        "            \"\"\"\n",
        "            Hi ! What do wanna do ?\n",
        "            1. NER\n",
        "            2. Language Detection\n",
        "            3. Sentiment Analysis\n",
        "            4. Logout\n",
        "            \"\"\"\n",
        "        )\n",
        "\n",
        "\n",
        "\n",
        "        if user_input == '1':\n",
        "            self.__Ner()\n",
        "        elif user_input == '2':\n",
        "            # self.__LangaugeDetection()\n",
        "            pass\n",
        "        elif user_input == '3':\n",
        "            # self.__SentimentAnalysis()\n",
        "            pass\n",
        "        else :\n",
        "            exit()\n",
        "\n",
        "\n",
        "    def __Ner(self):\n",
        "\n",
        "      para = input(\"Enter the paragraph : \")\n",
        "      search_term = input('What would you like to search : ')\n",
        "\n",
        "\n",
        "\n",
        "      client = nlpcloud.Client(\"finetuned-llama-3-70b\", \"edeaed011e982a46f99eaf58507ee3f8f3f6e4f2\", gpu=True)\n",
        "      self.response = client.entities(para,\n",
        "          searched_entity=search_term\n",
        "      )\n",
        "      print(self.response)\n",
        "\n",
        "\n",
        "obj = NLPApp()\n",
        "\n"
      ],
      "metadata": {
        "colab": {
          "base_uri": "https://localhost:8080/"
        },
        "id": "SivvOULdnNUE",
        "outputId": "897c5f13-8c05-471e-9444-405275c61307"
      },
      "execution_count": null,
      "outputs": [
        {
          "output_type": "stream",
          "name": "stdout",
          "text": [
            "\n",
            "            Hi ! How would you like to proceed ?\n",
            "            1. Not a member? Resigter\n",
            "            2. Already a member? Login\n",
            "            3. Want to exit? Exit\n",
            "            1\n",
            "Enter name : Priya\n",
            "Enter email : p@gmail.com\n",
            "Enter password : 123\n",
            "Registration successful, Now login....\n",
            "{'p@gmail.com': ['Priya', '123']}\n",
            "\n",
            "            Hi ! What do wanna do ?\n",
            "            1. NER\n",
            "            2. Language Detection\n",
            "            3. Sentiment Analysis\n",
            "            4. Logout\n",
            "            1\n",
            "Enter the paragraph : I like virat kohli as a batsmen, bowler bumrah and all rounder jadeja\n",
            "What would you like to search : cricketer name\n",
            "{'entities': [{'start': 7, 'end': 18, 'type': 'cricketer name', 'text': 'virat kohli'}, {'start': 40, 'end': 46, 'type': 'cricketer name', 'text': 'bumrah'}, {'start': 63, 'end': 69, 'type': 'cricketer name', 'text': 'jadeja'}]}\n"
          ]
        }
      ]
    },
    {
      "cell_type": "code",
      "source": [
        "d = obj.response\n",
        "result = []\n",
        "for i in range(0,len(d['entities'])):\n",
        "  result.append(d['entities'][i]['text'])\n",
        "\n",
        "for i in result:\n",
        "  print(i)\n",
        "\n",
        "\n"
      ],
      "metadata": {
        "colab": {
          "base_uri": "https://localhost:8080/"
        },
        "id": "TbyJA2cVnR9v",
        "outputId": "3945e282-5333-4298-8759-4d572133526d"
      },
      "execution_count": null,
      "outputs": [
        {
          "output_type": "stream",
          "name": "stdout",
          "text": [
            "Virat Kohli\n",
            "KL Rahul\n",
            "Jasprit Bumrah\n",
            "Jadeja\n"
          ]
        }
      ]
    },
    {
      "cell_type": "code",
      "source": [
        "print(round(0.8571397010038821+0.14285849494083339))"
      ],
      "metadata": {
        "id": "4CLMYh0WNq1Q",
        "colab": {
          "base_uri": "https://localhost:8080/"
        },
        "outputId": "b39fb568-933a-43fc-fd9a-e56ad564f6f6"
      },
      "execution_count": null,
      "outputs": [
        {
          "output_type": "stream",
          "name": "stdout",
          "text": [
            "1\n"
          ]
        }
      ]
    },
    {
      "cell_type": "code",
      "source": [
        "\n"
      ],
      "metadata": {
        "id": "nSflb6D-n3k8"
      },
      "execution_count": null,
      "outputs": []
    },
    {
      "cell_type": "code",
      "source": [],
      "metadata": {
        "id": "h96lmCQ8rndj"
      },
      "execution_count": null,
      "outputs": []
    }
  ]
}